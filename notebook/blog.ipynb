{
 "cells": [
  {
   "cell_type": "markdown",
   "metadata": {},
   "source": [
    "Once in a life, every computer user has to handle some spreadsheets or, excel files. Sometimes to put formulas in for accounting stuff, sometimes to store data from Google forms or other surveys and etc. So what do you actually do when the spreadsheet contains just survey data or no number to apply formulas at all? I know you'll get your hands dirty and do it manually. It's fine if the there's data from roughly a hundred people. What will you do if there's data from a thousand or more? I'd have run away in such cases because I'm way too lazy to scroll down and have a look at those. Hopefully I know how to do magic tricks using Python and I'm going to show you this specific magic trick today."
   ]
  },
  {
   "cell_type": "markdown",
   "metadata": {},
   "source": [
    "### Let's make a problem first\n",
    "\n",
    "I have a spreadsheet at my hand that has Name, Address and E-mail of 10,000 (Ten thousand, read that aloud) people. What I need to do is using this information I need to create .txt files for each of them using their names as the file name that'll contain there Name, Address and E-mail. More like a business card.\n",
    "\n",
    "**[ I generated the data in the file using Faker module ]**\n",
    "\n",
    "A screenshot of a portion of the file for your reference :\n",
    "\n",
    "![Imgur](http://i.imgur.com/2WSIXMt.png)"
   ]
  },
  {
   "cell_type": "markdown",
   "metadata": {},
   "source": [
    "### What we need\n",
    "\n",
    "- ```python3```\n",
    "- ```openpyxl``` Module. Install it using the following command in your command prompt / shell:\n",
    "    ```bash \n",
    "    pip install openpyxl\n",
    "    ```\n",
    "- A text editor of your choice : Atom, VS Code, Sublime, Emacs, Vim whatever you like."
   ]
  },
  {
   "cell_type": "markdown",
   "metadata": {},
   "source": [
    "### So let's get to code\n",
    "\n",
    "Our spreadsheet file name is : **TestBook.xlsx**\n",
    "[ All files and code is on github repo : ]"
   ]
  },
  {
   "cell_type": "code",
   "execution_count": 1,
   "metadata": {
    "collapsed": true
   },
   "outputs": [],
   "source": [
    "import openpyxl as opx\n",
    "\n",
    "\n",
    "fileName = '../excelFile/TestBook.xlsx'\n",
    "sheetName = 'Sheet1'"
   ]
  },
  {
   "cell_type": "markdown",
   "metadata": {},
   "source": []
  }
 ],
 "metadata": {
  "kernelspec": {
   "display_name": "Python 3",
   "language": "python",
   "name": "python3"
  },
  "language_info": {
   "codemirror_mode": {
    "name": "ipython",
    "version": 3
   },
   "file_extension": ".py",
   "mimetype": "text/x-python",
   "name": "python",
   "nbconvert_exporter": "python",
   "pygments_lexer": "ipython3",
   "version": "3.6.1"
  }
 },
 "nbformat": 4,
 "nbformat_minor": 2
}
